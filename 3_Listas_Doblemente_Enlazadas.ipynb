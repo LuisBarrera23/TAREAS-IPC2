{
  "nbformat": 4,
  "nbformat_minor": 0,
  "metadata": {
    "colab": {
      "name": "3. Listas Doblemente Enlazadas.ipynb",
      "provenance": [],
      "collapsed_sections": [],
      "authorship_tag": "ABX9TyOq3rnUh+Ebb43TDhLVjlpE",
      "include_colab_link": true
    },
    "kernelspec": {
      "name": "python3",
      "display_name": "Python 3"
    },
    "language_info": {
      "name": "python"
    }
  },
  "cells": [
    {
      "cell_type": "markdown",
      "metadata": {
        "id": "view-in-github",
        "colab_type": "text"
      },
      "source": [
        "<a href=\"https://colab.research.google.com/github/LuisBarrera23/TAREAS-IPC2/blob/main/3_Listas_Doblemente_Enlazadas.ipynb\" target=\"_parent\"><img src=\"https://colab.research.google.com/assets/colab-badge.svg\" alt=\"Open In Colab\"/></a>"
      ]
    },
    {
      "cell_type": "markdown",
      "metadata": {
        "id": "M1GKz_pN1puk"
      },
      "source": [
        "**Clase estudiante**"
      ]
    },
    {
      "cell_type": "code",
      "metadata": {
        "id": "EznFmnG3v58q"
      },
      "source": [
        "class estudiante:\n",
        "  def __init__(self,carne,nombre,edad,direccion,telefono,email,carrera,puesto):\n",
        "    self.carne=carne\n",
        "    self.nombre=nombre\n",
        "    self.edad=edad\n",
        "    self.direccion=direccion\n",
        "    self.telefono=telefono\n",
        "    self.email=email\n",
        "    self.carrera=carrera\n",
        "    self.puesto=puesto"
      ],
      "execution_count": null,
      "outputs": []
    },
    {
      "cell_type": "markdown",
      "metadata": {
        "id": "g3BwITP7z3Rd"
      },
      "source": [
        "**Definicion clase nodo**"
      ]
    },
    {
      "cell_type": "code",
      "metadata": {
        "id": "xxUprk3iz6Og"
      },
      "source": [
        "class nodo:\n",
        "  def __init__(self,estudiante=None,siguiente=None,anterior=None):\n",
        "    self.estudiante=estudiante\n",
        "    self.siguiente=siguiente\n",
        "    self.anterior=anterior"
      ],
      "execution_count": null,
      "outputs": []
    },
    {
      "cell_type": "markdown",
      "metadata": {
        "id": "cX6XTqdv0Mp-"
      },
      "source": [
        "**Definicion de la clase lista doblemente enlazada**"
      ]
    },
    {
      "cell_type": "code",
      "metadata": {
        "id": "NmfSV00W0T9r"
      },
      "source": [
        "class lista_doble:\n",
        "  def __init__(self):\n",
        "    self.primero=None\n",
        "\n",
        "  def insertar(self,estudiante):\n",
        "    if self.primero is None:\n",
        "      self.primero=nodo(estudiante=estudiante)\n",
        "\n",
        "    else:\n",
        "      actual=nodo(estudiante=estudiante,siguiente=self.primero)\n",
        "      self.primero.anterior=actual\n",
        "      self.primero=actual\n",
        "\n",
        "  def recorrer(self):\n",
        "    if self.primero is None:\n",
        "      return\n",
        "    actual=self.primero\n",
        "    print(\"Carne:\",actual.estudiante.carne,\"nombre:\",actual.estudiante.nombre,\"email:\",actual.estudiante.email,\"->\")\n",
        "    while actual.siguiente !=None:\n",
        "      actual=actual.siguiente\n",
        "      print(\"Carne:\",actual.estudiante.carne,\"nombre:\",actual.estudiante.nombre,\"email:\",actual.estudiante.email,\"->\")\n",
        "\n",
        "  def eliminar(self, carne):\n",
        "    actual=self.primero\n",
        "    while actual:\n",
        "      if actual.estudiante.carne==carne:\n",
        "        if actual.anterior:\n",
        "          if actual.siguiente:\n",
        "            actual.anterior.siguiente=actual.siguiente\n",
        "            actual.siguiente.anterior=actual.anterior\n",
        "          else:\n",
        "            actual.anterior.siguiente=None\n",
        "            actual.anterior=None\n",
        "        else:\n",
        "          if actual.siguiente:\n",
        "            self.primero=actual.siguiente\n",
        "            actual.siguiente.anterior=None\n",
        "          else:\n",
        "            self.primero=None\n",
        "        return True\n",
        "      else:\n",
        "        actual=actual.siguiente\n",
        "    return False"
      ],
      "execution_count": null,
      "outputs": []
    },
    {
      "cell_type": "markdown",
      "metadata": {
        "id": "ztqjTO9X9yTk"
      },
      "source": [
        "**Definir objetos estudiante**"
      ]
    },
    {
      "cell_type": "code",
      "metadata": {
        "id": "1KsgXdCx94SL"
      },
      "source": [
        "e1=estudiante(202010245,\"Paola Carias\",20,\"siquinala\",54645138,\"paola@gmail.com\",\"ingenieria en sistemas\",\"programador jr\")\n",
        "e2=estudiante(202010254,\"Gerson Quiroa\",20,\"masagua\",546454486,\"gerson@gmail.com\",\"ingenieria en sistemas\",\"programador jr\")\n",
        "e3=estudiante(202010033,\"Jose Rodolfo\",20,\"santa rosa\",5467826486,\"rodolfo@gmail.com\",\"ingenieria en sistemas\",\"programador jr\") "
      ],
      "execution_count": null,
      "outputs": []
    },
    {
      "cell_type": "markdown",
      "metadata": {
        "id": "VuGuVg659_R_"
      },
      "source": [
        "**Inserción**"
      ]
    },
    {
      "cell_type": "code",
      "metadata": {
        "id": "lyi0Ss-C-CGJ"
      },
      "source": [
        "lista_d=lista_doble()\n",
        "lista_d.insertar(e1)\n",
        "lista_d.insertar(e2)\n",
        "lista_d.insertar(e3)"
      ],
      "execution_count": null,
      "outputs": []
    },
    {
      "cell_type": "markdown",
      "metadata": {
        "id": "64dxJGZnwlK_"
      },
      "source": [
        "**Recorrido de la lista**\n"
      ]
    },
    {
      "cell_type": "code",
      "metadata": {
        "colab": {
          "base_uri": "https://localhost:8080/"
        },
        "id": "DjdjRkRmwnQR",
        "outputId": "1a8e27a1-aff0-4641-e5e7-ad5d6475fa76"
      },
      "source": [
        "lista_d.recorrer()"
      ],
      "execution_count": null,
      "outputs": [
        {
          "output_type": "stream",
          "text": [
            "Carne: 202010033 nombre: Jose Rodolfo email: rodolfo@gmail.com ->\n",
            "Carne: 202010254 nombre: Gerson Quiroa email: gerson@gmail.com ->\n",
            "Carne: 202010245 nombre: Paola Carias email: paola@gmail.com ->\n"
          ],
          "name": "stdout"
        }
      ]
    },
    {
      "cell_type": "markdown",
      "metadata": {
        "id": "Cc6eYf2h7obV"
      },
      "source": [
        "**Eliminar nodo de la lista**"
      ]
    },
    {
      "cell_type": "code",
      "metadata": {
        "colab": {
          "base_uri": "https://localhost:8080/"
        },
        "id": "Cp2GSNsk7vcM",
        "outputId": "7068a67f-e583-4943-bb1d-21b91fb128d3"
      },
      "source": [
        "lista_d.eliminar(202010033)\n",
        "lista_d.eliminar(202010254)\n",
        "lista_d.eliminar(202010245)"
      ],
      "execution_count": null,
      "outputs": [
        {
          "output_type": "execute_result",
          "data": {
            "text/plain": [
              "True"
            ]
          },
          "metadata": {},
          "execution_count": 23
        }
      ]
    },
    {
      "cell_type": "code",
      "metadata": {
        "id": "2mJOVmGH7446"
      },
      "source": [
        "lista_d.recorrer()"
      ],
      "execution_count": null,
      "outputs": []
    }
  ]
}